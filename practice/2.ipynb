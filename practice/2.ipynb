{
 "cells": [
  {
   "cell_type": "code",
   "execution_count": 102,
   "id": "db41c376",
   "metadata": {},
   "outputs": [
    {
     "name": "stderr",
     "output_type": "stream",
     "text": [
      "C:\\Users\\Lenovo\\AppData\\Local\\Temp\\ipykernel_13264\\2933146776.py:14: SettingWithCopyWarning: \n",
      "A value is trying to be set on a copy of a slice from a DataFrame.\n",
      "Try using .loc[row_indexer,col_indexer] = value instead\n",
      "\n",
      "See the caveats in the documentation: https://pandas.pydata.org/pandas-docs/stable/user_guide/indexing.html#returning-a-view-versus-a-copy\n",
      "  newdf['Joining_Date']=pd.to_datetime(newdf['Joining_Date'],errors='coerce')\n",
      "C:\\Users\\Lenovo\\AppData\\Local\\Temp\\ipykernel_13264\\2933146776.py:17: SettingWithCopyWarning: \n",
      "A value is trying to be set on a copy of a slice from a DataFrame.\n",
      "Try using .loc[row_indexer,col_indexer] = value instead\n",
      "\n",
      "See the caveats in the documentation: https://pandas.pydata.org/pandas-docs/stable/user_guide/indexing.html#returning-a-view-versus-a-copy\n",
      "  newdf[\"Gender\"] = newdf[\"Gender\"].replace({\n",
      "C:\\Users\\Lenovo\\AppData\\Local\\Temp\\ipykernel_13264\\2933146776.py:24: SettingWithCopyWarning: \n",
      "A value is trying to be set on a copy of a slice from a DataFrame.\n",
      "Try using .loc[row_indexer,col_indexer] = value instead\n",
      "\n",
      "See the caveats in the documentation: https://pandas.pydata.org/pandas-docs/stable/user_guide/indexing.html#returning-a-view-versus-a-copy\n",
      "  newdf[\"Joining_Date\"]=newdf[\"Joining_Date\"].fillna(pd.to_datetime('2020-01-01'))\n"
     ]
    }
   ],
   "source": [
    "import pandas as pd\n",
    "import numpy as np\n",
    "\n",
    "df=pd.read_csv('day1.csv')\n",
    "\n",
    "# df['ID']=pd.Series(range(1,len(df)+1))\n",
    "# df = df.reset_index(drop=True)\n",
    "# df\n",
    "# df['ID']=range(1,len(df)+1)\n",
    "df['ID']=range(1,len(df)+1)\n",
    "df['Age']=df['Age'].apply(lambda x: df['Age'].mean() if x<0 or pd.isnull(x) else x)\n",
    "df['Salary']=df['Salary'].fillna(df['Salary'].interpolate())\n",
    "newdf=df.dropna(subset=['Name'])\n",
    "newdf['Joining_Date']=pd.to_datetime(newdf['Joining_Date'],errors='coerce')\n",
    "\n",
    "\n",
    "newdf[\"Gender\"] = newdf[\"Gender\"].replace({\n",
    "    \"M\": \"Male\",\n",
    "    \"F\": \"Female\",\n",
    "    None: \"Unknown\",\n",
    "    \"nan\": \"Unknown\",\n",
    "    \"NaN\": \"Unknown\"\n",
    "})\n",
    "newdf[\"Joining_Date\"]=newdf[\"Joining_Date\"].fillna(pd.to_datetime('2020-01-01'))\n",
    "newdf.to_csv('final set1.csv',index=False)"
   ]
  },
  {
   "cell_type": "code",
   "execution_count": null,
   "id": "b10c5399",
   "metadata": {},
   "outputs": [],
   "source": []
  },
  {
   "cell_type": "code",
   "execution_count": null,
   "id": "eb7d8cb9",
   "metadata": {},
   "outputs": [],
   "source": []
  }
 ],
 "metadata": {
  "kernelspec": {
   "display_name": "Python 3",
   "language": "python",
   "name": "python3"
  },
  "language_info": {
   "codemirror_mode": {
    "name": "ipython",
    "version": 3
   },
   "file_extension": ".py",
   "mimetype": "text/x-python",
   "name": "python",
   "nbconvert_exporter": "python",
   "pygments_lexer": "ipython3",
   "version": "3.13.0"
  }
 },
 "nbformat": 4,
 "nbformat_minor": 5
}
